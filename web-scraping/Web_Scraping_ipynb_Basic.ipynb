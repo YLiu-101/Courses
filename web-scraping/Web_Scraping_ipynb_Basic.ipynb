{
  "nbformat": 4,
  "nbformat_minor": 0,
  "metadata": {
    "colab": {
      "name": "Web-Scraping.ipynb-Basic",
      "provenance": [],
      "toc_visible": true,
      "authorship_tag": "ABX9TyN9W6Uyzfl8XNSKf+OVVoRR"
    },
    "kernelspec": {
      "name": "python3",
      "display_name": "Python 3"
    },
    "language_info": {
      "name": "python"
    }
  },
  "cells": [
    {
      "cell_type": "markdown",
      "source": [
        "### USDA"
      ],
      "metadata": {
        "id": "j8DzSLNHWz0t"
      }
    },
    {
      "cell_type": "code",
      "execution_count": null,
      "metadata": {
        "colab": {
          "base_uri": "https://localhost:8080/"
        },
        "id": "L1bwL2guT3sB",
        "outputId": "2163d4bd-88f3-4dea-e232-120d06506a8f"
      },
      "outputs": [
        {
          "output_type": "stream",
          "name": "stdout",
          "text": [
            "021-2022\n"
          ]
        }
      ],
      "source": [
        "import requests\n",
        "from bs4 import BeautifulSoup\n",
        "\n",
        "url = 'https://www.fsis.usda.gov/recalls-alerts/ready-dough-pizza-inc--recalls-pepperoni-pizza-products-produced-without-benefit'\n",
        "req = requests.get(url) # Gets the request\n",
        "\n",
        "soup = BeautifulSoup(req.text, 'html.parser')\n",
        "\n",
        "# for i in soup.find_all('h1',class_=\"recall-header__title\"):\n",
        "#   print(i.text)\n",
        "\n",
        "for i in soup.find_all('span',class_=\"tag tag--active\"):\n",
        "  if \"Active\" not in i:\n",
        "    print(i.text)\n",
        "# for i in soup.find_all('a',class_=\"tag tag--reason\"):\n",
        "#   print(i.text)"
      ]
    },
    {
      "cell_type": "code",
      "source": [
        "url = 'https://www.fsis.usda.gov/recalls'\n",
        "req = requests.get(url)\n",
        "\n",
        "soup = BeautifulSoup(req.text,'html.parser')\n",
        "\n",
        "link = []\n",
        "\n",
        "for i in soup.find_all('a',href=True):\n",
        "  if 'recalls-alerts' in i['href']: # Using key words that give away the info we want\n",
        "    link.append(\"https://www.fsis.usda.gov\" + i['href'])\n",
        "    print(\"https://www.fsis.usda.gov\" + i['href'])\n",
        "\n",
        "link = list(set(link))"
      ],
      "metadata": {
        "colab": {
          "base_uri": "https://localhost:8080/"
        },
        "id": "kOkeX8aBT_jK",
        "outputId": "3867174d-91d6-4941-cfde-90a6f6912237"
      },
      "execution_count": null,
      "outputs": [
        {
          "output_type": "stream",
          "name": "stdout",
          "text": [
            "https://www.fsis.usda.gov/recalls-alerts/msi-express-inc--recalls-unilever-food-solutions-u-s--knorr-curry-chicken-and-rice\n",
            "https://www.fsis.usda.gov/recalls-alerts/msi-express-inc--recalls-unilever-food-solutions-u-s--knorr-curry-chicken-and-rice\n",
            "https://www.fsis.usda.gov/recalls-alerts/ready-dough-pizza-inc--recalls-pepperoni-pizza-products-produced-without-benefit\n",
            "https://www.fsis.usda.gov/recalls-alerts/fsis-issues-public-health-alert-ready-eat-caesar-salad-chicken-due-misbranding-and\n",
            "https://www.fsis.usda.gov/recalls-alerts/fsis-issues-public-health-alert-rendered-pork-fat-products-produced-without-benefit\n",
            "https://www.fsis.usda.gov/recalls-alerts/creminelli-fine-meats-recalls-mini-parmesan-salami-stick-products-due-misbranding\n",
            "https://www.fsis.usda.gov/recalls-alerts/fsis-issues-public-health-alert-ineligible-siluriformes-products-imported-korea\n",
            "https://www.fsis.usda.gov/recalls-alerts/yumei-foods-usa-inc--recalls-ineligible-siluriformes-products-imported-china\n",
            "https://www.fsis.usda.gov/recalls-alerts/northern-tier-bakery-llc-recalls-ready-eat-salad-products-due-possible-listeria\n",
            "https://www.fsis.usda.gov/recalls-alerts/fsis-issues-public-health-alert-ready-eat-salad-products-containing-peanut-butter\n",
            "https://www.fsis.usda.gov/recalls-alerts/smithfield-packaged-meats-corp--recalls-a-ready-eat-bacon-topping-products-due\n"
          ]
        }
      ]
    },
    {
      "cell_type": "code",
      "source": [
        "title = []\n",
        "report_id = []\n",
        "recall_reason = []\n",
        "\n",
        "for i in link:\n",
        "  url = i\n",
        "  req = requests.get(url) # Gets the request\n",
        "\n",
        "  soup = BeautifulSoup(req.text, 'html.parser')\n",
        "\n",
        "  for i in soup.find_all('h1',class_=\"recall-header__title\"):\n",
        "    title.append(i)\n",
        "\n",
        "  for i in soup.find_all('span',class_=\"tag tag--active\"):\n",
        "    if \"Active\" not in i:\n",
        "      report_id.append(i)\n",
        "  for i in soup.find('a',class_=\"tag tag--reason\"):\n",
        "    recall_reason.append(i)\n"
      ],
      "metadata": {
        "id": "Sy5fXBxtarjJ"
      },
      "execution_count": null,
      "outputs": []
    },
    {
      "cell_type": "code",
      "source": [
        "import pandas as pd\n",
        "\n",
        "d = {'Report-ID':report_id,'Report-Title': title,\n",
        "     'Recall_Reason': recall_reason,'report_url':link}\n",
        "\n",
        "df = pd.DataFrame(data=d)\n",
        "df.head()\n",
        "\n",
        "df.to_excel('fsis.xlsx')"
      ],
      "metadata": {
        "id": "THOe0VfncTtu"
      },
      "execution_count": null,
      "outputs": []
    },
    {
      "cell_type": "markdown",
      "source": [
        "### Scrape This Site"
      ],
      "metadata": {
        "id": "DLC-wFnkamDZ"
      }
    },
    {
      "cell_type": "code",
      "source": [
        ""
      ],
      "metadata": {
        "id": "LrgdnIEMalzp"
      },
      "execution_count": null,
      "outputs": []
    }
  ]
}